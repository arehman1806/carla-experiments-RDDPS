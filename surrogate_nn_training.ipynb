{
 "cells": [
  {
   "cell_type": "code",
   "execution_count": 1,
   "metadata": {},
   "outputs": [],
   "source": [
    "import torch\n",
    "from torch import nn"
   ]
  },
  {
   "cell_type": "code",
   "execution_count": 2,
   "metadata": {},
   "outputs": [],
   "source": [
    "class SurrogateNN(nn.Module):\n",
    "    def __init__(self):\n",
    "        super(SurrogateNN, self).__init__()\n",
    "        \n",
    "        self.input_dim = 2  # number of inputs. rn its at_junction and distance to junction\n",
    "        self.hidden_dim = 10  # Number of hidden units.\n",
    "        \n",
    "        # Defining the layers\n",
    "        self.layer1 = nn.Linear(self.input_dim, self.hidden_dim)\n",
    "        self.layer2 = nn.Linear(self.hidden_dim, 1)  # Output dimension is 1.\n",
    "\n",
    "    def forward(self, x):\n",
    "        x = torch.relu(self.layer1(x))  # Use ReLU activation function for the hidden layer\n",
    "        x = torch.sigmoid(self.layer2(x))  # Use sigmoid activation function for the output layer\n",
    "        return x"
   ]
  }
 ],
 "metadata": {
  "kernelspec": {
   "display_name": "carla_stuff",
   "language": "python",
   "name": "python3"
  },
  "language_info": {
   "codemirror_mode": {
    "name": "ipython",
    "version": 3
   },
   "file_extension": ".py",
   "mimetype": "text/x-python",
   "name": "python",
   "nbconvert_exporter": "python",
   "pygments_lexer": "ipython3",
   "version": "3.8.16"
  },
  "orig_nbformat": 4
 },
 "nbformat": 4,
 "nbformat_minor": 2
}
